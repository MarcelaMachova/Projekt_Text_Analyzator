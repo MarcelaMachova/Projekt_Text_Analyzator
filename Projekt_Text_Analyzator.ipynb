{
  "nbformat": 4,
  "nbformat_minor": 0,
  "metadata": {
    "colab": {
      "name": "Projekt_Text_Analyzator.ipynb",
      "provenance": [],
      "authorship_tag": "ABX9TyOwxknGHnmjXUTPN66bqQ/i",
      "include_colab_link": true
    },
    "kernelspec": {
      "name": "python3",
      "display_name": "Python 3"
    }
  },
  "cells": [
    {
      "cell_type": "markdown",
      "metadata": {
        "id": "view-in-github",
        "colab_type": "text"
      },
      "source": [
        "<a href=\"https://colab.research.google.com/github/MarcelaMachova/Projekt_Text_Analyzator/blob/main/Projekt_Text_Analyzator.ipynb\" target=\"_parent\"><img src=\"https://colab.research.google.com/assets/colab-badge.svg\" alt=\"Open In Colab\"/></a>"
      ]
    },
    {
      "cell_type": "code",
      "metadata": {
        "colab": {
          "base_uri": "https://localhost:8080/"
        },
        "id": "oCesP2STERW0",
        "outputId": "24fd8d01-7115-412a-ff08-d6ea5ebb9adb"
      },
      "source": [
        "# TEXTS\r\n",
        "\r\n",
        "TEXTS = ['''\r\n",
        "Situated about 10 miles west of Kemmerer, \r\n",
        "Fossil Butte is a ruggedly impressive \r\n",
        "topographic feature that rises sharply \r\n",
        "some 1000 feet above Twin Creek Valley \r\n",
        "to an elevation of more than 7500 feet \r\n",
        "above sea level. The butte is located just \r\n",
        "north of US 30N and the Union Pacific Railroad, \r\n",
        "which traverse the valley. ''',\r\n",
        "\r\n",
        "'''At the base of Fossil Butte are the bright \r\n",
        "red, purple, yellow and gray beds of the Wasatch \r\n",
        "Formation. Eroded portions of these horizontal \r\n",
        "beds slope gradually upward from the valley floor \r\n",
        "and steepen abruptly. Overlying them and extending \r\n",
        "to the top of the butte are the much steeper \r\n",
        "buff-to-white beds of the Green River Formation, \r\n",
        "which are about 300 feet thick.''',\r\n",
        "\r\n",
        "'''The monument contains 8198 acres and protects \r\n",
        "a portion of the largest deposit of freshwater fish \r\n",
        "fossils in the world. The richest fossil fish deposits \r\n",
        "are found in multiple limestone layers, which lie some \r\n",
        "100 feet below the top of the butte. The fossils \r\n",
        "represent several varieties of perch, as well as \r\n",
        "other freshwater genera and herring similar to those \r\n",
        "in modern oceans. Other fish such as paddlefish, \r\n",
        "garpike and stingray are also present.'''\r\n",
        "]\r\n",
        "\r\n",
        "#Registrovaní uživatelé\r\n",
        "data = {\"bob\" : \"123\",\r\n",
        "        \"ann\" : \"pass123\",\r\n",
        "        \"mike\" : \"password123\",\r\n",
        "        \"liz\" : \"pass123\"\r\n",
        "        }\r\n",
        "\r\n",
        "#1) Dotaz na přihlašovací  jméno a heslo\r\n",
        "username = input('Username: ')\r\n",
        "password = input('Password: ')\r\n",
        "\r\n",
        "#2 + 3) Zjištění, jestli zadané údaje odpovídají registrovaným uživatelům\r\n",
        "if data.get(username) == password:\r\n",
        "  print('=' * 50)\r\n",
        "  print('Welcome to the app', username,'.')\r\n",
        "  print('We have 3 texts to be analyzed.')\r\n",
        "  print('=' * 50)\r\n",
        "else:\r\n",
        "  print(\"Chyba! Přihlašovací jméno, nebo heslo není správně!\")\r\n",
        "\r\n",
        "#4) Výběr mezi třemi texty, které jsou uložené v proměnné Texts.\r\n",
        "selection = int(input(\"Please enter the text number to select (1 - 3): \"))\r\n",
        "\r\n",
        "if selection == 1 or selection == 2 or selection == 3:\r\n",
        "  print(\"You selected the text number: \", selection)\r\n",
        "else:\r\n",
        "  print(\"Sorry. Invalid selection! We can offer you only 3 texts for analysis.\")\r\n",
        "\r\n",
        "#5) Práce s textem a následné provedení statistik.\r\n",
        "##5a) Rozdělení a očištění prvků v proměnné text a přiřazení do nové proměnné.\r\n",
        "\r\n",
        "selected_text = TEXTS[selection - 1]\r\n",
        "\r\n",
        "dirty_words = selected_text.split()\r\n",
        "\r\n",
        "words_list = []\r\n",
        "\r\n",
        "for word in dirty_words:\r\n",
        "  words_list.append(word.strip(\".,!?/\"))\r\n",
        "\r\n",
        "print('=' * 50)\r\n",
        "\r\n",
        "##5b) Statistiky:\r\n",
        "\r\n",
        "print('The selected text contains ', len(words_list), ' words.')\r\n",
        "\r\n",
        "capital_letters = []\r\n",
        "for word in words_list:\r\n",
        "  if word.isupper():\r\n",
        "    capital_letters.append(word)\r\n",
        "print('The selected text contains ', len(capital_letters), 'words written by capital letters.')\r\n",
        "\r\n",
        "small_letters = []\r\n",
        "for word in words_list:\r\n",
        "   if word.islower():\r\n",
        "     small_letters.append(word)\r\n",
        "print('The selected text contains ', len(small_letters), 'words written by small letters.')\r\n",
        "\r\n",
        "\r\n",
        "\r\n",
        "\r\n"
      ],
      "execution_count": null,
      "outputs": [
        {
          "output_type": "stream",
          "text": [
            "Username: bob\n",
            "Password: 123\n",
            "==================================================\n",
            "Welcome to the app bob .\n",
            "We have 3 texts to be analyzed.\n",
            "==================================================\n",
            "Please enter the text number to select (1 - 3): 1\n",
            "You selected the text number:  1\n",
            "==================================================\n",
            "The selected text contains  54  words.\n",
            "The selected text contains  2 words written by capital letters.\n",
            "The selected text contains  38 words written by small letters.\n"
          ],
          "name": "stdout"
        }
      ]
    }
  ]
}